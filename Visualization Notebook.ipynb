{
  "cells": [
    {
      "metadata": {
        "_uuid": "6947c46563352fcb07bacd3f120b878e402888fa",
        "_cell_guid": "94a58d85-165e-4bb3-bd70-4b49e8e7b028"
      },
      "cell_type": "markdown",
      "source": "This is a modified version of the Kaggle kernel: https://www.kaggle.com/hnike25/best-machine-learning-model-on-the-dataset"
    },
    {
      "metadata": {
        "_uuid": "f8913df3735495957026b5540320a4ea5a6dfe61",
        "_cell_guid": "1e9b3990-2a11-42c4-8653-1a7a8d624f18"
      },
      "cell_type": "markdown",
      "source": "CONTENT\n*  Merge Dataset\n*  Missing Data \n*  Publication Analysis\n*  PH Scale Distribution\n*  Most Used Crystallization Method\n*  Most Used Experimental Technique\n*  Macro Molecule Type Distribution\n* Classification Distribution\n* Analysis Results\n* Correlation Matrix Analysis\n* Statistical Analysis"
    },
    {
      "metadata": {
        "_uuid": "c36a3bd956ce1da1ef49d747020a031a56b54968",
        "_cell_guid": "fbf292ab-8ec4-4520-9ca5-056765da7b9a",
        "trusted": true
      },
      "cell_type": "code",
      "source": "import pandas as pd\nimport numpy as np\nimport matplotlib.pyplot as plt\nimport seaborn as sns\n%matplotlib inline\nfrom matplotlib import cm\nsns.set_style('ticks')\nimport plotly.offline as py\npy.init_notebook_mode(connected=True)\nimport plotly.graph_objs as go\nimport plotly.tools as tls\nimport warnings\nwarnings.filterwarnings('ignore')\nimport os\nprint(os.listdir(\"../input\"))",
      "execution_count": null,
      "outputs": []
    },
    {
      "metadata": {
        "_uuid": "92efc561a9a6b54c30b17552792ea57d7034abd7",
        "_cell_guid": "aae6359c-63f5-47df-951e-6131683a41ae",
        "collapsed": true,
        "trusted": true
      },
      "cell_type": "code",
      "source": "# Import Dataset\ndf_dup = pd.read_csv('../input/pdb_data_no_dups.csv')\ndf_seq = pd.read_csv('../input/pdb_data_seq.csv')",
      "execution_count": null,
      "outputs": []
    },
    {
      "metadata": {
        "_uuid": "6f6c2651ae7a0e70b9ce3c5d2c524c57fbc8eba1",
        "_cell_guid": "0749c34f-a501-41c6-a686-d75fc9618bc3"
      },
      "cell_type": "markdown",
      "source": "### Merge Dataset "
    },
    {
      "metadata": {
        "_uuid": "626685beba81a56699dcdf733bd942876c60ec22",
        "code_folding": [
          0
        ],
        "_cell_guid": "7f88e92f-8236-4158-809f-1a484ee79b47",
        "_kg_hide-input": true,
        "collapsed": true,
        "trusted": true
      },
      "cell_type": "code",
      "source": "# Merge the two Data set together\ndf_merge = df_dup.merge(df_seq,how='inner',on='structureId')\ndf_merge.rename({'macromoleculeType_x':'macromoleculeType',\n                                            'residueCount_y':'residueCount'},axis=1,inplace=True)\ndf_merge.drop(['macromoleculeType_y','residueCount_x'],axis=1,inplace=True)",
      "execution_count": null,
      "outputs": []
    },
    {
      "metadata": {
        "_uuid": "1a06ac22f9db5e9a601c73b323c0776b0c556410",
        "_cell_guid": "65f13625-0ea2-4a7f-8644-8495e52d5cb5"
      },
      "cell_type": "markdown",
      "source": "### Missing Data Analysis"
    },
    {
      "metadata": {
        "_uuid": "5f9fe044c27f90b11df966cc8af7a331399b7750",
        "_cell_guid": "3e1e7e3e-020e-4d7f-83d8-3205aa202bc8",
        "_kg_hide-input": true,
        "trusted": true
      },
      "cell_type": "code",
      "source": "df_isnull = pd.DataFrame(round((df_merge.isnull().sum().sort_values(ascending=False)/df_merge.shape[0])*100,1)).reset_index()\ndf_isnull.columns = ['Columns', '% of Missing Data']\ndf_isnull.style.format({'% of Missing Data': lambda x:'{:.1%}'.format(abs(x))})\ncm = sns.light_palette(\"skyblue\", as_cmap=True)\ndf_isnull = df_isnull.style.background_gradient(cmap=cm)\ndf_isnull",
      "execution_count": null,
      "outputs": []
    },
    {
      "metadata": {
        "_uuid": "34511ad7f1afe0736f6b5a744975b8f96ff59556",
        "_cell_guid": "0de35ff8-0bcd-472c-a9bd-aec17eccb401"
      },
      "cell_type": "raw",
      "source": "The Crystallization Method, Crystallization Temperatue,pH values,Publication Year and pdbxDetails have more than 15% of missing values. We will use the column for individual analysis only during the EDA process. We will also used the dataframe.dropna(subnet = [column_name]) method when this columns are used. This method willl drop all the missing values for the selected column only."
    },
    {
      "metadata": {
        "_uuid": "3ab4cdcf7547ae399b53a55bb182769a5414d34f",
        "_cell_guid": "fbf13723-17ab-4a37-b324-fc583271da8e"
      },
      "cell_type": "markdown",
      "source": "### Publication per Year"
    },
    {
      "metadata": {
        "_uuid": "0bffec24cfffc598432e5bca4d90365ddbe0d6da",
        "_cell_guid": "acc478ec-29f8-4498-8217-67674ab5fce2",
        "trusted": true
      },
      "cell_type": "code",
      "source": "print ('The publication of the Reserach on the Strutural Sequence of Protein have continually incresed over the last 4 decades')",
      "execution_count": null,
      "outputs": []
    },
    {
      "metadata": {
        "_uuid": "72a091d6aaf3b12ff153bfb5637cbab5843c556f",
        "_cell_guid": "d1d6971e-33c2-47e4-ba98-8ba26ae1fd9a",
        "_kg_hide-input": true,
        "trusted": true
      },
      "cell_type": "code",
      "source": "df_pub_year = df_merge.dropna(subset=['publicationYear']) #dropping the missing values from the publicationYear only\n#graph\nx1= df_pub_year.publicationYear.value_counts().sort_index().index\ny1 = df_pub_year.publicationYear.value_counts().sort_index().values\ntrace1 = go.Scatter(\n    x=x1,\n    y=y1,\n    mode = 'lines+markers',\n    text = x1,\n    marker=dict(\n    color='blue'),  \n)\nlayout = go.Layout(\n    xaxis=dict(\n        title = 'Years',\n        range = [1967.9,2018.5],\n        autotick=True,  \n    ),\n    yaxis = dict(\n    title = 'Frequency'\n    ),\n    title = 'Number of Publications Since 1968'\n    )\n\nfig = go.Figure(data=[trace1], layout=layout)\npy.iplot(fig)\n",
      "execution_count": null,
      "outputs": []
    },
    {
      "metadata": {
        "_uuid": "3174186718f13464f9aea2475d8e921461aaafe2",
        "_cell_guid": "2a64ef1a-0298-4c9b-8651-a00beaf78cdc"
      },
      "cell_type": "markdown",
      "source": "### PH Scale Distribution"
    },
    {
      "metadata": {
        "_uuid": "5b7c153a4014cafcda8734847a374d6a65502019",
        "code_folding": [
          0
        ],
        "_cell_guid": "711c530c-9406-4222-ab92-a26e741ae092",
        "_kg_hide-input": true,
        "trusted": true
      },
      "cell_type": "code",
      "source": "# We will split the ph value into three according to the scientific categorization of the Ph such as Acidic if pH <7\n#basic if pH >7 and neutral if pH = 7\ndef ph_scale (ph):\n    if ph < 7 :\n        ph = 'Acidic'\n    elif ph > 7:\n        ph = 'Bacis'\n    else:\n        ph = 'Neutral'\n    return ph\nprint('The pH Scale are group into 3 Categories: BASIC if [ pH > 7 ], ACIDIC if [ pH < 7 ] and NEUTRAL if pH [ is equal to 7 ]')\n\n#Transform the dataset\ndf_ph = df_merge.dropna(subset=['phValue']) # dropping missing values in the phValue column only\ndf_ph['pH_scale'] = df_ph['phValue'].apply(ph_scale)\n#Graph\nlabels= df_ph['pH_scale'].value_counts().index\nvalues = df_ph['pH_scale'].value_counts().values\nfig = {\n      \"data\": [\n        {\n          \"values\":values,\n          \"labels\":labels,\n          \"text\":'pH Scale',\n          \"textposition\":\"inside\",\n          #\"domain\": {\"x\": [0, .33]},\n          \"textfont\": {'size':12,'color':'white'},  \n          \"name\": 'pH Scale',\n          \"hoverinfo\":\"label+percent+name\",\n          \"hole\": .4,\n          \"type\": \"pie\"\n        }],\n    \"layout\": {\n            \"title\":\"pH Distribution\",\n            \"annotations\": [\n                {\n                    \"font\": {\n                        \"size\": 20\n                    },\n                    \"showarrow\": False,\n                    \"text\": 'pH Scale',\n                    \"x\": 0.50,\n                    \"y\": 0.5\n                }]\n            }\n        }\npy.iplot(fig)                              ",
      "execution_count": null,
      "outputs": []
    },
    {
      "metadata": {
        "_uuid": "59edfd7c3d1d7106ee96942bed26f3e02f7ec332",
        "_cell_guid": "417c7915-9cf6-4f1a-89ab-0f1dd82381be"
      },
      "cell_type": "markdown",
      "source": "### Most Used Crystallization Method"
    },
    {
      "metadata": {
        "scrolled": false,
        "_uuid": "2d14e2a2113c53ce097c8b8e6a92070d9b0faa36",
        "code_folding": [
          10
        ],
        "_cell_guid": "6f729c92-4924-40d9-84a1-f75d3f62a423",
        "_kg_hide-input": true,
        "trusted": true
      },
      "cell_type": "code",
      "source": "# The result of this cell Show the Top 10 most used crystallization method\ndf_cry_meth = df_merge.dropna(subset=['crystallizationMethod']) # this will drop all missing values in\n#the crystallizationMethod column\n\ncry_me = pd.DataFrame(df_cry_meth.crystallizationMethod.value_counts(ascending=False).head(10)).reset_index()\ncry_me.columns = ['Crystallization Method','Values']\n\nf,ax = plt.subplots(figsize=(10,8))\ncry_me.plot(kind = 'barh',ax=ax,color='gray',legend=None,width= 0.8)\n# get_width pulls left or right; get_y pushes up or down\nfor i in ax.patches:\n    ax.text(i.get_width()+.1, i.get_y()+.40, \\\n            str(round((i.get_width()), 2)), fontsize=12, color='black',alpha=0.8)  \n#Set ylabel\nax.set_yticklabels(cry_me['Crystallization Method'])\n# invert for largest on top \nax.invert_yaxis()\nkwargs= {'length':3, 'width':1, 'colors':'black','labelsize':'large'}\nax.tick_params(**kwargs)\nx_axis = ax.axes.get_xaxis().set_visible(False)\nax.set_title ('Top 10 Crystallization Method',color='black',fontsize=16)\nsns.despine(bottom=True)",
      "execution_count": null,
      "outputs": []
    },
    {
      "metadata": {
        "_uuid": "f9f3ad94070080cefbdf780de6d80c58725837ea",
        "_cell_guid": "d93b6b52-9c42-47b1-ae81-56bf6df878b5"
      },
      "cell_type": "markdown",
      "source": "### Most Used Experimental Technique"
    },
    {
      "metadata": {
        "_kg_hide-output": false,
        "_cell_guid": "b294ffd5-bd9b-44a1-8c20-f1013d92831e",
        "_kg_hide-input": true,
        "_uuid": "2de1298b33ca928ab35668cbe8af8774ede4d619",
        "trusted": true
      },
      "cell_type": "code",
      "source": "popular_exp_tech = df_merge.experimentalTechnique.value_counts()[:3] # Extract the 3 top used Exp Tech \npopular_exp_tech_df = pd.DataFrame(popular_exp_tech).reset_index()\npopular_exp_tech_df.columns=['Experimental Technique','values']\n# ADDING A ROW FOR THE ORTHER EXPERIMENTAL TECHNIQUE USED. PLEASE PUT IN MIND THAT TO ORTHER TECHNIQUES \n#IS JUST A GROUP OF THE REST OF THECNIQUES USED\npopular_exp_tech_df.loc[3]  = ['OTHER TECHNIQUE', 449]\nprint ('The X-RAY DIFFRACTION is by far the most used Experimental Technique during the Study of the Protein Sequences')\n\nlabels = popular_exp_tech_df['Experimental Technique']\nvalues = popular_exp_tech_df['values']\na = 'Exp Tech'\nfig = {\n      \"data\": [\n        {\n          \"values\":values,\n          \"labels\":labels,\n          \"text\":a,\n          \"textposition\":\"inside\",\n          #\"domain\": {\"x\": [0, .33]},\n          \"textfont\": {'size':12,'color':'white'},  \n          \"name\": a,\n          \"hoverinfo\":\"label+percent+name\",\n          \"hole\": .4,\n          \"type\": \"pie\"\n        }],\n    \"layout\": {\n            \"title\":\"Most Used Experimental Techniques\",\n            \"annotations\": [\n                {\n                    \"font\": {\n                        \"size\": 20\n                    },\n                    \"showarrow\": False,\n                    \"text\": a,\n                    \"x\": 0.50,\n                    \"y\": 0.5\n                }]\n            }\n        }\npy.iplot(fig)                              ",
      "execution_count": null,
      "outputs": []
    },
    {
      "metadata": {
        "_uuid": "976dc5ea52fa437469ca685a60db63bf5b050248",
        "_cell_guid": "f6e8aa48-55ad-4ba3-ba04-4a51d8339f69"
      },
      "cell_type": "markdown",
      "source": "### Macro Molecule Type Distribution"
    },
    {
      "metadata": {
        "_uuid": "81199211585e71df9c08fe13a85b8f1e7dad2a7d",
        "_cell_guid": "6610c646-b8e7-4cdb-a637-15d47d8bcf83",
        "_kg_hide-input": true,
        "trusted": true
      },
      "cell_type": "code",
      "source": "print ('There are more than 10 macro molecules used in this dataset but PROTEIN is widely used than the others')\n\nex = df_merge.macromoleculeType.value_counts()\na = 'Macro Mol Type'\ncolors = ['SlateGray','Orange','Green','DodgerBlue','DodgerBlue','DodgerBlue','DodgerBlue','DodgerBlue','DodgerBlue',\n        'DodgerBlue','DodgerBlue','DodgerBlue','DodgerBlue']\nfig = {\n      \"data\": [\n        {\n          \"values\":ex.values,\n          \"labels\":ex.index,\n          \"text\":a,\n          \"textposition\":\"inside\",\n          #\"domain\": {\"x\": [0, .33]},\n          \"textfont\": {'size':12,'color':'white'},  \n          \"name\": a,\n          \"hoverinfo\":\"label+percent+name\",\n          \"hole\": .4,\n          'marker':{'colors':colors\n                   },\n          \"type\": \"pie\"\n        }],\n    \"layout\": {\n            \"title\":\"Macro Molecule type Distribution\",\n            \"annotations\": [\n                {\n                    \"font\": {\n                        \"size\": 20\n                    },\n                    \"showarrow\": False,\n                    \"text\": a,\n                    \"x\": 0.50,\n                    \"y\": 0.5\n                }]\n            }\n        }\npy.iplot(fig)                              ",
      "execution_count": null,
      "outputs": []
    },
    {
      "metadata": {
        "_uuid": "5c53a0c6bd8a32e080b0d3886701b248cadf5eda",
        "_cell_guid": "876cd819-af60-4637-91d4-397bb4d1fc61"
      },
      "cell_type": "raw",
      "source": "Protein is the most macromoleclule type analyzed in this dataset"
    },
    {
      "metadata": {
        "_uuid": "7c35b247a3078d253838874fd504802b9b19c0df",
        "_cell_guid": "5768ad64-827a-4ede-a5b4-f7b75eb686d6"
      },
      "cell_type": "markdown",
      "source": "### Classification Distribution"
    },
    {
      "metadata": {
        "_uuid": "f465f51cd4e3f4d85e69967f329b1bc53062bf3a",
        "code_folding": [],
        "_cell_guid": "c69aac21-22cb-4046-b3ac-6fcecb317323",
        "_kg_hide-input": true,
        "trusted": true
      },
      "cell_type": "code",
      "source": "#classification distribution\nclasific =df_merge.classification.value_counts(ascending=False)\ndf_class = pd.DataFrame(round(((clasific/df_merge.shape[0])*100),2).head(10)).reset_index()\ndf_class.columns = ['Classification', 'percent_value']\nprint('There are {} Unique Classification Types and the top 10 Classification type accounts for more than 50% of the classification in the dataset'.format(df_merge.classification.nunique()))\nf,ax = plt.subplots(figsize=(10,8))\n\ndf_class.plot(kind = 'barh',ax=ax,color='slategray',legend=None,width= 0.8)\n# get_width pulls left or right; get_y pushes up or down\nfor i in ax.patches:\n    ax.text(i.get_width()+.1, i.get_y()+.40, \\\n            str(round((i.get_width()), 2))+'%', fontsize=12, color='black',alpha=0.8)  \n#Set ylabel\nax.set_yticklabels(df_class['Classification'])\n# invert for largest on top \nax.invert_yaxis()\nkwargs= {'length':3, 'width':1, 'colors':'black','labelsize':'large'}\nax.tick_params(**kwargs)\nx_axis = ax.axes.get_xaxis().set_visible(False)\nax.set_title ('Top 10 Classification Types',color='black',fontsize=16)\nsns.despine(bottom=True)",
      "execution_count": null,
      "outputs": []
    },
    {
      "metadata": {
        "_uuid": "411d2ef41b9dc86d8915d2861abda27e771907fc",
        "_cell_guid": "d9be13a4-12fc-423b-b9d6-6aebf7f39d01"
      },
      "cell_type": "markdown",
      "source": "### Analysis Results (part I)\n\nThis is what we have found So far\n    1. The most analyzed macromolecule Type is Protein\n    2. The most used Experimental Technique is the X_RAY DIFFRACTION\n    3. There are 5050 Uniques classification type in the dataset and the highest classification type is less than   15%\n    4. The macromolecule Type has less than 3% of missing values whereas the experimental Technique columns don't   any missing values\n    5. We will reduce our data set to Experimental Technique = 'X-RAY DIFFRACTION'  and drop all columns with missing values percentage greater than 15%\n    6. The Dataset is very large and contains **352125** classification types. I will reduce to classification to    the 3 most used classifications, which are **HYDROLASE, TRANSFERASE AND OXIDOREDUCTASE**. This is for learning purpose only. Also, I didn't select the RIBOSOME because its properties can be easily been differentiated. "
    },
    {
      "metadata": {
        "_uuid": "234ea0bfc75fc12a521a80486c037bed94cb9ad5",
        "_cell_guid": "5e4fac44-7702-4e99-9c1f-99da4c7b9c18"
      },
      "cell_type": "markdown",
      "source": "### Dataset Reduction"
    },
    {
      "metadata": {
        "_uuid": "18c7769bb8a65b1024245fb1c45e1d702c43080a",
        "_cell_guid": "ae573088-e720-4ea8-ab46-d6e3910fded9"
      },
      "cell_type": "markdown",
      "source": "I will reduce my dataset to only 3 classification type, which are HYDROLASE, TRANSFERASE AND OXIDOREDUCTASE"
    },
    {
      "metadata": {
        "_uuid": "11a3b2e47538904c1b3225552f76334e4d46c90f",
        "_cell_guid": "79972f8e-3979-4093-a012-8739fc4193c9",
        "_kg_hide-input": true,
        "trusted": true
      },
      "cell_type": "code",
      "source": "df_class.Classification.values.tolist()[1:4]\n# Reduce the df_merge to df_protein which is compose of macromolecule type [Protein and Protein#RNA]\nmacrotype = ['Protein','Protein#RNA']\ndf_protein = df_merge[(df_merge['experimentalTechnique'] =='X-RAY DIFFRACTION') & \n                      (df_merge['macromoleculeType'].isin(macrotype))&\n                     (df_merge['classification'].isin(df_class.Classification.values.tolist()[1:4]))]\n\ndf_protein.reset_index(drop=True,inplace=True)\ncolumns = ['crystallizationMethod' ,'pdbxDetails', 'publicationYear','phValue','crystallizationTempK']\n#Dropping columns with missing value above 15%\ndf_protein.drop(columns=columns,inplace=True)\n# Classification Type that will be used from now on\nf,ax= plt.subplots(figsize=(10,5))\nsns.countplot('classification',data=df_protein, ax=ax)\nax.set_title('Classification Types Selected',fontsize=14,color='black')\nax.tick_params(length =3,labelsize=11,color='black')\nax.set_xlabel('Classification',color='black',fontsize=13)\nsns.despine()",
      "execution_count": null,
      "outputs": []
    },
    {
      "metadata": {
        "_uuid": "a0ac8d6a469110103e2a7bcfc312c428501f8cc0",
        "_cell_guid": "b8562440-ed17-4a60-93c0-1f89808e499e"
      },
      "cell_type": "markdown",
      "source": "### Statistical Analysis "
    },
    {
      "metadata": {
        "_uuid": "c7d6ee2d4ef357b58b0189c410a6ee7d1d378cfc",
        "_cell_guid": "fe6d5130-1b1c-4106-ae0d-a54c6484f0ea"
      },
      "cell_type": "raw",
      "source": "Let check how the data from these columns are distributed. the columns are : Resolution, Residue Count and Struture Molecular Weights"
    },
    {
      "metadata": {
        "_uuid": "da1e3c45b3d6fbac60a163992d10bf9f9482cfdb",
        "_cell_guid": "ee9be6c0-71ab-4578-94b3-1c0c23391778",
        "trusted": true
      },
      "cell_type": "code",
      "source": "from scipy import stats\nfrom scipy.stats import norm, skew, kurtosis\ndef stat_kde_plot(input1,input2,input3):\n    f, (ax1,ax2,ax3) = plt.subplots(1,3,figsize=(15,5))\n    sns.kdeplot(df_protein[input1],ax = ax1,color ='blue',shade=True,\n                label=(\"Skewness : %.2f\"%(df_protein[input1].skew()),\n                       \"Kurtosis: %.2f\"%(df_protein[input1].kurtosis())))\n    sns.kdeplot(df_protein[input2], ax = ax2,color='r',shade=True,\n                label=(\"Skewness : %.2f\"%(df_protein[input2].skew()),\n                       \"Kurtosis: %.2f\"%(df_protein[input2].kurtosis())))\n    sns.kdeplot(df_protein[input3], ax = ax3,color='gray',shade=True,\n                label=(\"Skewness : %.2f\"%(df_protein[input3].skew()),\n                       \"Kurtosis: %.2f\"%(df_protein[input3].kurtosis())))\n    axes = [ax1,ax2,ax3]\n    input = [input1,input2,input3]\n    for j in range(len(axes)):\n        axes[j].set_xlabel(input[j],color='black',fontsize=12)\n        axes[j].set_title(input[j] + ' Kdeplot',fontsize=14)\n        axes[j].axvline(df_protein[input[j]].mean() , color ='g',linestyle = '--')\n        axes[j].legend(loc ='upper right',fontsize=12,ncol=2)\n    sns.despine()\n    return plt.show()\n\nstat_kde_plot('resolution','residueCount','structureMolecularWeight')",
      "execution_count": null,
      "outputs": []
    },
    {
      "metadata": {
        "_uuid": "4eb84fd2f8910f0ff6c913333f2b1259011208c5",
        "_cell_guid": "f188f4c4-9da4-425c-ba0b-f27eb7658552"
      },
      "cell_type": "markdown",
      "source": "We can observed that the , Resolution, Residue Count and Structure Molecular Weight distributions are very skewed. These can overweigth high values in the model, even after scaling them.\n\nA better approach to this problem is to transform the feature above using the log function to reduce the skew."
    },
    {
      "metadata": {
        "_uuid": "6a36e33faa0acaf479f24c025dde35c79bd5a1e8",
        "_cell_guid": "c092abf8-ed32-4f03-a754-de40044a6d36"
      },
      "cell_type": "markdown",
      "source": "#### Apply Log Function Transformation"
    },
    {
      "metadata": {
        "scrolled": true,
        "_uuid": "70e551c6d8aca5f214ad37fe90c6d054f3d81977",
        "_cell_guid": "7ffaa74d-701c-4b82-8669-9ab8853f4136",
        "trusted": true
      },
      "cell_type": "code",
      "source": "for i in ['resolution','residueCount','structureMolecularWeight']:\n    df_protein[i] = df_protein[i].map(lambda i: np.log(i) if i > 0 else 0)\nstat_kde_plot('resolution','residueCount','structureMolecularWeight')",
      "execution_count": null,
      "outputs": []
    },
    {
      "metadata": {
        "_uuid": "278999e5714058d1df610075ab3491f325a14a11",
        "_cell_guid": "780bcaf6-cd55-4a30-958c-ad8410c6ae6f"
      },
      "cell_type": "markdown",
      "source": "The Kdeplots above do not give a clear interpretation of the data from the respective columns. we will use some statistical method to extract some useful meaning from the columns. we will play with some statistical analysis\n- plot the Normal Q-Q plot to verify if these distribution are normaly distributed\n- Interpret the plot"
    },
    {
      "metadata": {
        "_uuid": "16a2d9535b57f68ec0060fbc8c157ccee561c6c9",
        "_cell_guid": "7bd74782-c5cd-4989-80ab-2669d9660636"
      },
      "cell_type": "markdown",
      "source": "#### Normal Distribution Verification"
    },
    {
      "metadata": {
        "_uuid": "46c7466af3450cba7aca28b82fd8dcc69d7b58e2",
        "code_folding": [
          0
        ],
        "_cell_guid": "14fbb90b-c9eb-48ec-b7c1-9babf6f7b54a",
        "_kg_hide-input": true,
        "trusted": true
      },
      "cell_type": "code",
      "source": "# Drop all null values from this columns\ndef stat_plot (input):\n    (mu, sigma) = norm.fit(df_protein[input])\n    f, (ax1, ax2)= plt.subplots(1,2,figsize=(15,5))\n    # Apply the log transformation on the column\n    sns.distplot(df_protein[input],ax = ax1,fit=norm,color ='blue',hist=False)\n    ax1.legend(['Normal dist. ($\\mu=$ {:.2f} and $\\sigma=$ {:.2f} )'.format(mu, sigma)],loc='best')\n    ax1.set_ylabel('Frequency')\n    ax1.set_title(input +' Distribution',color='black',fontsize=14)\n    #Get also the QQ-plot\n    res = stats.probplot(df_protein[input], plot=ax2)\n    sns.despine()\n    return plt.show()\nstat_plot('structureMolecularWeight')\nstat_plot('residueCount')\nstat_plot('resolution')",
      "execution_count": null,
      "outputs": []
    },
    {
      "metadata": {
        "_uuid": "1c4d36bf72d6c953700adf835a8311a0fa754588",
        "_cell_guid": "e7b3115e-455a-43a9-aa63-7d0b29040ac4"
      },
      "cell_type": "markdown",
      "source": "#### Boxplot Analysis"
    },
    {
      "metadata": {
        "_uuid": "cbfcaa3739339e741fe71061bd2801dbc302e2f5",
        "_cell_guid": "bffdbdc4-2360-46ef-8c59-8103bbff4e2c",
        "_kg_hide-input": true,
        "trusted": true
      },
      "cell_type": "code",
      "source": "def box_plot(input):\n    g = sns.factorplot(x=\"classification\", y = input,data = df_protein, kind=\"box\",size =4,\n                  aspect=2)\n    plt.title(input, fontsize=14,color='black')\n    return plt.show()\n\nbox_plot('residueCount')\nbox_plot('resolution')\nbox_plot('structureMolecularWeight')",
      "execution_count": null,
      "outputs": []
    },
    {
      "metadata": {
        "_uuid": "2e1b9047cfec80f3938283f8d46dd58b1fbe7bd7",
        "_cell_guid": "7d28e45d-987b-478d-87da-8765ae8fd7f2"
      },
      "cell_type": "markdown",
      "source": "#### My Data Interpretation"
    },
    {
      "metadata": {
        "_uuid": "3e17833c348cd61246856e0db8d1b33dac6cff45",
        "_cell_guid": "f1b71651-8408-4d3b-8d3f-d1dc94f4268b"
      },
      "cell_type": "markdown",
      "source": "Interpretation of the figures above seems to follow a normal distribution reasonably well except in the extreme tails\n    1. the Residue Count and the Structure Molecular Weight are more likely to be normally distributed. After the   data transformation, the skewness is between [-1/2,1/2], \n    which means the distribution is approximately symmetrical\n    2. Also, the kurtosis of both distribution are close to zero, which can explained the absence of long tail on the graphes\n    3. the distribution of Resolution parameter can be observed to have a longer tail, which explained the bump at the end of the graph and a higher kurtosis"
    },
    {
      "metadata": {
        "_uuid": "7421da3306e0e83b94ba9b95d2edffc4aed89959",
        "_cell_guid": "0d9b7376-f1bc-482e-bc2d-ca4ca86cb7f1",
        "collapsed": true
      },
      "cell_type": "markdown",
      "source": "### Feature Engineering"
    },
    {
      "metadata": {
        "_uuid": "60b099890cf019d7caa1c1037944d92c82c5ad0b",
        "_cell_guid": "14015634-9c14-4148-8875-d85163faf0be",
        "_kg_hide-input": true,
        "trusted": true
      },
      "cell_type": "code",
      "source": "#class_dict = {'RIBOSOME':1,'HYDROLASE':2,'TRANSFERASE':3} \nclass_dict = {'HYDROLASE':1,'TRANSFERASE':2,'OXIDOREDUCTASE':3}\ndf_protein['class'] = df_protein.classification.map(class_dict)\n#Reduce the dataset to only numerical column and clssification column\ncolumns = ['resolution','structureMolecularWeight','densityMatthews','densityPercentSol',\n           'residueCount','class']\ndf_ml = df_protein[columns]\ndf_ml.dropna(inplace=True)\ndf_ml.head()",
      "execution_count": null,
      "outputs": []
    },
    {
      "metadata": {
        "_uuid": "3b730b0d18a9cf3ab327a83a5216f58cbb9b405a",
        "_cell_guid": "1fc2e964-65aa-496f-b7cb-a718e411d485"
      },
      "cell_type": "markdown",
      "source": "### Pearson Correlation Matrix Analysis"
    },
    {
      "metadata": {
        "_uuid": "6ebe3f0b068342d42df01be652754c8055e9208d",
        "_cell_guid": "7f186de5-9a89-4b7a-a356-1ba5fc0bc9fb",
        "_kg_hide-input": true,
        "trusted": true
      },
      "cell_type": "code",
      "source": "colormap = plt.cm.RdBu\nf, ax = plt.subplots(figsize=(18,7))\nsns.heatmap(df_ml.corr(),cmap= colormap,annot=True,ax=ax,annot_kws ={'fontsize':12})\nkwargs= {'length':3, 'width':1, 'colors':'black','labelsize':13}\nax.tick_params(**kwargs)\nax.tick_params(**kwargs,axis='x')\nplt.title ('Pearson Correlation Matrix', color = 'black',fontsize=18)\nplt.tight_layout()\nplt.show()",
      "execution_count": null,
      "outputs": []
    },
    {
      "metadata": {
        "_uuid": "6e220a7ec844e691cc3a8f5c515bbebd34f7cdae",
        "_cell_guid": "051c3390-0715-480e-aa3a-3ba3b65e92aa"
      },
      "cell_type": "markdown",
      "source": "### What can we learn from the plot\nThere is a very strong Correlation between Density Matthews values and Density Percent Sol, ResidueCount and Structure Molecular Weight. Both parameters also have a weak correlation with **Resolution, Residue Count** and **Struture Molecular Weight**. Some features have low pearson correlation but I will keep and use them in the Machine learning model for learning purpose "
    },
    {
      "metadata": {
        "_uuid": "decc5857d626a6617a01517213dbd6a7ab59e8b9",
        "_cell_guid": "f9e3e078-8dde-414a-915d-2e5ea9f6de53",
        "_kg_hide-input": true,
        "collapsed": true,
        "trusted": true
      },
      "cell_type": "code",
      "source": "from sklearn.model_selection import train_test_split\nfrom sklearn.preprocessing import StandardScaler\nX = df_ml.drop('class',axis = 1)\ny = df_ml['class']\nX_train, X_test, y_train, y_test = train_test_split(X, y, test_size=0.20, random_state=42)\n\n# Standardizing the dataset\nsc = StandardScaler()\nX_train = sc.fit_transform(X_train)\nX_test = sc.transform(X_test)",
      "execution_count": null,
      "outputs": []
    },
    {
      "metadata": {
        "_uuid": "f2d47ef91acfa5e31e0e953fea8e629eaa5d7ccf",
        "_cell_guid": "0f8a2f2e-829e-46d8-b50c-9c708aaa5067"
      },
      "cell_type": "markdown",
      "source": "### Simple Machine Learning Analysis"
    },
    {
      "metadata": {
        "_uuid": "71ce57705da32b114a9647855db83c5540b80a28",
        "_cell_guid": "cf18aec6-5ce0-419c-8d11-8a589dbc3103",
        "_kg_hide-input": false,
        "collapsed": true,
        "trusted": true
      },
      "cell_type": "code",
      "source": "from sklearn.tree import DecisionTreeClassifier\nfrom sklearn.linear_model import LogisticRegression\nfrom sklearn.metrics import confusion_matrix, classification_report,accuracy_score\nfrom sklearn.svm import SVC\nfrom sklearn.neighbors import KNeighborsClassifier\nfrom sklearn.naive_bayes import GaussianNB\nfrom sklearn.ensemble import RandomForestClassifier,AdaBoostClassifier,GradientBoostingClassifier,ExtraTreesClassifier\nfrom sklearn.discriminant_analysis import LinearDiscriminantAnalysis\nfrom sklearn.model_selection import GridSearchCV, cross_val_score, StratifiedKFold, learning_curve\nfrom sklearn.neural_network import MLPClassifier",
      "execution_count": null,
      "outputs": []
    },
    {
      "metadata": {
        "_uuid": "4cf581dea430c3d3881a30424b7290795762b31f",
        "_cell_guid": "8ecaac1b-175a-42c6-a206-946641c2b31a"
      },
      "cell_type": "markdown",
      "source": "#### Fitting All Models One at the Time"
    },
    {
      "metadata": {
        "_uuid": "85686d931505483910868bb0a3a6ea2c0205ea21",
        "_cell_guid": "509fe965-3b9b-41d6-8851-3d40d30a3e1d",
        "_kg_hide-input": true,
        "collapsed": true,
        "trusted": true
      },
      "cell_type": "code",
      "source": "def model_select(classifier):\n    cv_result = []\n    cv_means = []\n    # Cross validate model with Kfold stratified cross val\n    kfold = StratifiedKFold(n_splits=5)\n    cv_result.append(cross_val_score(classifier, X_train, y = y_train, scoring = \"accuracy\", cv = kfold, n_jobs=4))\n    cv_means.append(np.mean(cv_result))\n    return cv_means\n# Fitting all the models \nmodel_type = [KNeighborsClassifier(),GaussianNB(),RandomForestClassifier(),\n              AdaBoostClassifier(),GradientBoostingClassifier(),DecisionTreeClassifier(),ExtraTreesClassifier()]\nmodel_score = [model_select(i) for i in model_type]",
      "execution_count": null,
      "outputs": []
    },
    {
      "metadata": {
        "_uuid": "3a0b6882aa832464422b2a88ac9932cb482778ef",
        "_cell_guid": "bde5c2f9-84b2-46e4-a74d-69157d342413"
      },
      "cell_type": "markdown",
      "source": "### Accuracy Scores Plot"
    },
    {
      "metadata": {
        "_kg_hide-output": false,
        "_cell_guid": "ed3f586c-7bd3-46e1-9dd3-a1522763d89e",
        "_kg_hide-input": true,
        "_uuid": "11700bcdb81563dadf9d764c921e04e3d0b9ea42",
        "trusted": true
      },
      "cell_type": "code",
      "source": "classifier = ['KNeighbors','Naive Bayes','Random Forest', \n             'AdaBoost','Gradient Boosting','Decision Tree','Extra Trees']\n# Place result in a data Frame\nml_model = pd.DataFrame(model_score,classifier).reset_index()\nml_model.columns=['Model','acc_score']\nml_model.sort_values('acc_score',ascending = False,inplace=True)\nml_model.reset_index(drop=True,inplace = True)\nf, ax = plt.subplots(figsize=(10,8))\nsns.barplot('acc_score','Model',data=ml_model, ax=ax,palette='RdBu_r',edgecolor=\".2\")\nfor i in ax.patches:\n    # get_width pulls left or right; get_y pushes up or down\n    ax.text(i.get_width()+.01, i.get_y()+.55, \\\n        str(round((i.get_width()), 2)), fontsize=12, color='black') \nkwargs= {'length':3, 'width':1, 'colors':'black','labelsize':'large'}\nax.tick_params(**kwargs)\nx_axis = ax.axes.get_xaxis().set_visible(False)\nax.set_title('Model & Accuracy Score',fontsize=16)\nsns.despine(bottom=True)\nplt.show()",
      "execution_count": null,
      "outputs": []
    },
    {
      "metadata": {
        "_uuid": "7b2e4870eb70956ccdb246c81aa22136ddc87e98",
        "_cell_guid": "fd3744c0-07a7-4a60-9eba-bc0b2e71f443"
      },
      "cell_type": "markdown",
      "source": "#### Model Evaluation Using Confusion Matrix"
    },
    {
      "metadata": {
        "_uuid": "2943fde62e4c57c8e6403b8dc09184e2336a9505"
      },
      "cell_type": "markdown",
      "source": "From the 7 models ran above, we will only performed the confusion matrix analysis on Two model, which are the Random Forest and the Extra tree Models Classifier.\nWhy those two?\nRandom Forest handle overfitting better than other model if there are enough data. Also the randomness of the algorithm during feature selection allow the model to perform better\nTo make it simple Random Forest is Decision tree on steroids.\nRandom Forest and Extra Tree and very similar but differ only on how they randomly splits the data. So if these Two models give me close result...I may conclude that my model is doing GREAT\n\n"
    },
    {
      "metadata": {
        "_uuid": "a71844e6a88435e2c30f5dc318d9cbefc53f9cd5",
        "_cell_guid": "eab5b314-aaa8-46f4-b75c-db169ceb328b",
        "_kg_hide-input": true,
        "trusted": true
      },
      "cell_type": "code",
      "source": "#Credit: http://scikit-learn.org/stable/auto_examples/model_selection/plot_confusion_matrix.html\nimport itertools\n# Compute confusion matrix\ndef single_model(model):\n    clf = model\n    clf.fit(X_train,y_train)\n    y_pred = clf.predict(X_test)\n    conf_mx = confusion_matrix(y_pred,y_test)\n    return conf_mx\n\n#plot confusion matrix    \ndef plot_confusion_matrix(cm, classes,model_name):\n\n    plt.figure(figsize=(10,6))\n    cmap = plt.cm.Blues\n    plt.imshow(cm, interpolation='nearest', cmap=cmap)\n    plt.title('Confusion matrix: '+ model_name, fontsize=15)\n    plt.colorbar()\n    tick_marks = np.arange(len(classes))\n    plt.xticks(tick_marks, classes, rotation=0)\n    plt.yticks(tick_marks, classes)\n    fmt = 'd'\n    thresh = cm.max() / 2.\n    for i, j in itertools.product(range(cm.shape[0]), range(cm.shape[1])):\n        plt.text(j, i, format(cm[i, j], fmt),\n                 horizontalalignment=\"center\",\n                 color=\"white\" if cm[i, j] > thresh else \"black\",fontsize=12)\n\n    plt.tight_layout()\n    plt.ylabel('True label',fontsize=12,color='black')\n    plt.xlabel('Predicted label',fontsize=12,color='black' )\n    np.set_printoptions(precision=2)\n    \n    return plt.show()\nclasses = ['HYDROLASE','TRANSFERASE','OXIDOREDUCTASE']\nplot_confusion_matrix(single_model(ExtraTreesClassifier()), classes,'Extra Trees Classifier Model')\nplot_confusion_matrix(single_model(RandomForestClassifier()), classes,'Random Forest Classifier Model')\n#plot_confusion_matrix(single_model(SVC()), classes,'Support Vector Classifier Model')",
      "execution_count": null,
      "outputs": []
    },
    {
      "metadata": {
        "_uuid": "4b3c6cf54a7685c6807998e9fad0f592ca7c11d0",
        "_cell_guid": "e0dfd4f8-5cbf-433c-af76-3b641153eda3"
      },
      "cell_type": "markdown",
      "source": "#### Features Importance & Plot"
    },
    {
      "metadata": {
        "_uuid": "e0a85369df63f297b1811748eca057b8bd953b89",
        "_cell_guid": "36d3dfb0-43c7-4e9d-87ff-2a1792f6e9cb",
        "_kg_hide-input": true,
        "trusted": true
      },
      "cell_type": "code",
      "source": "def sing_model(model,input):\n    clf = model\n    clf.fit(X_train,y_train)\n    model_fi = clf.feature_importances_\n    feat_imp = pd.DataFrame(model_fi,df_ml.columns[:-1]).reset_index()\n    feat_imp.columns = ['Features','Importance_score']\n    feat_imp.sort_values('Importance_score',ascending=False,inplace=True)\n    feat_imp.reset_index(drop=True,inplace = True)\n    f, ax = plt.subplots(figsize=(10,8))\n    sns.barplot('Importance_score','Features',data=feat_imp, ax=ax,palette='RdBu_r',edgecolor=\".2\")\n    for i in ax.patches:\n        # get_width pulls left or right; get_y pushes up or down\n        ax.text(i.get_width()+.002, i.get_y()+.45, \\\n            str(round((i.get_width()), 2)), fontsize=12, color='black') \n    kwargs= {'length':3, 'width':1, 'colors':'black','labelsize':'large'}\n    ax.tick_params(**kwargs)\n    x_axis = ax.axes.get_xaxis().set_visible(False)\n    ax.set_title(input +':'+ ' Features Importance Score',fontsize=16)\n    sns.despine(bottom=True)\n    return plt.show()\nsing_model(RandomForestClassifier(),'Random Forest Classifier')\nsing_model(ExtraTreesClassifier(),'Extra Trees Clas')",
      "execution_count": null,
      "outputs": []
    },
    {
      "metadata": {
        "_uuid": "cded097c4059815eca6a9645576bd6e926cc7217",
        "_cell_guid": "e7417f5f-1479-4660-8dec-f2bdbe802017"
      },
      "cell_type": "markdown",
      "source": "#### Learning Curve Analysis"
    },
    {
      "metadata": {
        "_uuid": "c004cab2dc1576910c2a5616f6d66e531f8bf4e5",
        "_cell_guid": "3722ddf0-1dad-4b15-aae1-c8f7cfb0637a",
        "_kg_hide-input": true,
        "trusted": true
      },
      "cell_type": "code",
      "source": "kfold = StratifiedKFold(n_splits=5)\n# Generate a simple plot of the test and training learning curve\ndef plot_learning_curve(estimator, title, X, y, ylim=None, cv=None,n_jobs=4, train_sizes=np.linspace(.1, 1.0, 5)):\n\n    plt.figure(figsize = (10,5))\n    plt.title(title)\n    if ylim is not None:\n        plt.ylim(*ylim)\n    plt.xlabel(\"Training examples\")\n    plt.ylabel(\"Score\")\n    train_sizes, train_scores, test_scores = learning_curve(\n        estimator, X, y, cv=cv, n_jobs=n_jobs, train_sizes=train_sizes)\n    \n    train_scores_mean = np.mean(train_scores, axis=1)\n    test_scores_mean = np.mean(test_scores, axis=1)\n\n    plt.grid()\n    plt.plot(train_sizes, train_scores_mean, 'o-', color=\"r\",\n             label=\"Training score\")\n    plt.plot(train_sizes, test_scores_mean, 'o-', color=\"g\",\n             label=\"Cross-validation score\")\n    plt.legend(loc=\"best\")\n    return plt.show()\n\nplot_learning_curve(ExtraTreesClassifier(),\"Extra Trees Classifier Learning curves\",X_train,y_train,cv=kfold)\nplot_learning_curve(RandomForestClassifier(),\"Random Forest Classifier Learning curves\",X_train,y_train,cv=kfold)\nplot_learning_curve(GradientBoostingClassifier(),\"Gradient Boosting Classifier mearning curves\",X_train,y_train,cv=kfold)",
      "execution_count": null,
      "outputs": []
    },
    {
      "metadata": {
        "_uuid": "1d432d371e1d9304650a7e9218887cc4a3d49482",
        "_cell_guid": "91ab56ed-4f90-4b0f-811a-5a10311ac3bf"
      },
      "cell_type": "markdown",
      "source": " #### Learning Analysis"
    },
    {
      "metadata": {
        "_kg_hide-output": true,
        "_cell_guid": "9be0b2e3-32e2-404a-b13e-a8c9e978073d",
        "collapsed": true,
        "_uuid": "431bee924e2c71c8a4661b2989338bd29a1d6927"
      },
      "cell_type": "markdown",
      "source": "1. Training score (red line) is at its maximum regardless of training examples. This shows severe overfitting\n2. Cross-validation score (green line) increases as the training set sample increases but the huge gap between cross-validation score and training score indicates high variance problem\n3. To solve issue like this, may be  data collections or extra features can help with the high variance"
    },
    {
      "metadata": {
        "_uuid": "13f036f246007a5c5661e99d7883850d04a9aaab",
        "_cell_guid": "75e0b385-e688-4b95-9dc3-a901809fc658"
      },
      "cell_type": "markdown",
      "source": "#### Summary"
    },
    {
      "metadata": {
        "_uuid": "f130d645a5bc60a6d4fe67f2165beabb70098d43",
        "_cell_guid": "578cdf6e-b7b3-4bf6-8f8f-9fb5c950a49a"
      },
      "cell_type": "markdown",
      "source": "* This is a large dataset with a lot of Classification types. I reduce the dataset to three classification type to be able to analyze it on my PC. \n* I Do Not know if we apply my methodology to all the dataset on a powerful computer (may be cloud computing), my result will be valide. \n* For learning Purpose if you find my work helpful  or like what you see....... PLEASE GIVE ME A UPVOTE  :):):)"
    },
    {
      "metadata": {
        "trusted": true,
        "collapsed": true,
        "_uuid": "fc128a9a5b5ff309eb66f26bfacd3893210ba948"
      },
      "cell_type": "code",
      "source": "",
      "execution_count": null,
      "outputs": []
    }
  ],
  "metadata": {
    "kernelspec": {
      "display_name": "Python 3",
      "language": "python",
      "name": "python3"
    },
    "language_info": {
      "name": "python",
      "version": "3.6.6",
      "mimetype": "text/x-python",
      "codemirror_mode": {
        "name": "ipython",
        "version": 3
      },
      "pygments_lexer": "ipython3",
      "nbconvert_exporter": "python",
      "file_extension": ".py"
    },
    "toc": {
      "title_cell": "Table of Contents",
      "toc_section_display": true,
      "skip_h1_title": false,
      "toc_position": {
        "width": "276px",
        "left": "1105px",
        "height": "100px",
        "top": "110.5px"
      },
      "toc_window_display": true,
      "number_sections": true,
      "toc_cell": false,
      "title_sidebar": "Contents",
      "nav_menu": {},
      "sideBar": false,
      "base_numbering": 1
    }
  },
  "nbformat": 4,
  "nbformat_minor": 1
}